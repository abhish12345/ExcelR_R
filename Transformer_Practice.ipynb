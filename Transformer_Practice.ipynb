{
 "cells": [
  {
   "cell_type": "code",
   "execution_count": 1,
   "id": "49554951-289c-486b-a7c4-8ea6e1a241d8",
   "metadata": {},
   "outputs": [],
   "source": [
    "# !pip install transformers"
   ]
  },
  {
   "cell_type": "code",
   "execution_count": 2,
   "id": "ffc961c5-58d7-419f-b24d-2674c6eeb2e7",
   "metadata": {},
   "outputs": [],
   "source": [
    "# !pip install --upgrade transformers"
   ]
  },
  {
   "cell_type": "code",
   "execution_count": 3,
   "id": "2d3dae1d-4886-43f1-be63-707a444250ec",
   "metadata": {},
   "outputs": [],
   "source": [
    "# import torch"
   ]
  },
  {
   "cell_type": "code",
   "execution_count": 4,
   "id": "dcaeb519-9cd0-4cc4-8a15-cd6c04c3926e",
   "metadata": {},
   "outputs": [],
   "source": [
    "# !pip install torch"
   ]
  },
  {
   "cell_type": "code",
   "execution_count": 5,
   "id": "5f74e6b8-1df7-43f4-9243-dad3dd241a1d",
   "metadata": {},
   "outputs": [],
   "source": [
    "from transformers import pipeline"
   ]
  },
  {
   "cell_type": "code",
   "execution_count": 6,
   "id": "c6d9b411-d628-4427-8451-fc148c44442a",
   "metadata": {},
   "outputs": [],
   "source": [
    "import torch"
   ]
  },
  {
   "cell_type": "code",
   "execution_count": 7,
   "id": "90924194-4e06-4d57-8cd7-b8971937c83c",
   "metadata": {},
   "outputs": [
    {
     "name": "stdout",
     "output_type": "stream",
     "text": [
      "WARNING:tensorflow:From C:\\Users\\Abhi\\anaconda3\\Lib\\site-packages\\tf_keras\\src\\losses.py:2976: The name tf.losses.sparse_softmax_cross_entropy is deprecated. Please use tf.compat.v1.losses.sparse_softmax_cross_entropy instead.\n",
      "\n"
     ]
    },
    {
     "name": "stderr",
     "output_type": "stream",
     "text": [
      "Some weights of BartForSequenceClassification were not initialized from the model checkpoint at facebook/bart-base and are newly initialized: ['classification_head.dense.bias', 'classification_head.dense.weight', 'classification_head.out_proj.bias', 'classification_head.out_proj.weight']\n",
      "You should probably TRAIN this model on a down-stream task to be able to use it for predictions and inference.\n"
     ]
    }
   ],
   "source": [
    "classifier = pipeline(\"text-classification\", model = \"facebook/bart-base\")"
   ]
  },
  {
   "cell_type": "code",
   "execution_count": 8,
   "id": "2e1a829a-7a18-4d41-be01-0f15b2d3076a",
   "metadata": {},
   "outputs": [],
   "source": [
    "# pip install tf-keras\n"
   ]
  },
  {
   "cell_type": "code",
   "execution_count": 9,
   "id": "b772bb03-8cd5-477f-8986-1a37419bd48a",
   "metadata": {},
   "outputs": [],
   "source": [
    "# pip install keras==2.11.0"
   ]
  },
  {
   "cell_type": "code",
   "execution_count": 10,
   "id": "ad5b5d28-c041-4503-bfd5-cfa0baa9b88f",
   "metadata": {},
   "outputs": [
    {
     "data": {
      "text/plain": [
       "<transformers.pipelines.text_classification.TextClassificationPipeline at 0x29907f65dd0>"
      ]
     },
     "execution_count": 10,
     "metadata": {},
     "output_type": "execute_result"
    }
   ],
   "source": [
    "classifier"
   ]
  },
  {
   "cell_type": "code",
   "execution_count": 11,
   "id": "a2004a85-f841-48cb-ab0a-453f9ccb998a",
   "metadata": {},
   "outputs": [
    {
     "data": {
      "text/plain": [
       "[{'label': 'LABEL_0', 'score': 0.4422281086444855}]"
      ]
     },
     "execution_count": 11,
     "metadata": {},
     "output_type": "execute_result"
    }
   ],
   "source": [
    "classifier('My school is the best school')"
   ]
  },
  {
   "cell_type": "code",
   "execution_count": 12,
   "id": "e99edf40-265c-4f9b-9361-21786261c030",
   "metadata": {},
   "outputs": [],
   "source": [
    "classifier = pipeline(\"text-classification\",model = \"facebook/bart-large-mnli\")"
   ]
  },
  {
   "cell_type": "code",
   "execution_count": 13,
   "id": "02006265-1010-4207-a308-f142e7fce05c",
   "metadata": {},
   "outputs": [
    {
     "data": {
      "text/plain": [
       "[{'label': 'neutral', 'score': 0.9944867491722107}]"
      ]
     },
     "execution_count": 13,
     "metadata": {},
     "output_type": "execute_result"
    }
   ],
   "source": [
    "classifier(\"I have an issue with my speaker which was delivered yesterday\")"
   ]
  },
  {
   "cell_type": "code",
   "execution_count": 14,
   "id": "f336a4ab-436e-476e-9d0d-47ed29085301",
   "metadata": {},
   "outputs": [
    {
     "name": "stderr",
     "output_type": "stream",
     "text": [
      "No model was supplied, defaulted to facebook/bart-large-mnli and revision d7645e1 (https://huggingface.co/facebook/bart-large-mnli).\n",
      "Using a pipeline without specifying a model name and revision in production is not recommended.\n"
     ]
    }
   ],
   "source": [
    "classifier = pipeline(\"zero-shot-classification\",models=\"facebook/bart-large-mnli\")"
   ]
  },
  {
   "cell_type": "code",
   "execution_count": 15,
   "id": "6410b115-2b56-4345-b3ad-2acf0d428bc3",
   "metadata": {},
   "outputs": [
    {
     "data": {
      "text/plain": [
       "{'sequence': 'I have an issue with my speaker which was delivered yesterday',\n",
       " 'labels': ['speaker', 'urgent', 'soundbox', 'woofer'],\n",
       " 'scores': [0.8995612859725952,\n",
       "  0.04853843152523041,\n",
       "  0.039672933518886566,\n",
       "  0.012227360159158707]}"
      ]
     },
     "execution_count": 15,
     "metadata": {},
     "output_type": "execute_result"
    }
   ],
   "source": [
    "classifier(\n",
    "    \"I have an issue with my speaker which was delivered yesterday\",\n",
    "    candidate_labels = [\"urgent\",\"speaker\",\"woofer\",\"soundbox\"]\n",
    ")"
   ]
  },
  {
   "cell_type": "code",
   "execution_count": 16,
   "id": "ede8d958-eae7-41e5-81c3-3dad8dde5f89",
   "metadata": {},
   "outputs": [],
   "source": [
    "# print(\"Hello World\")"
   ]
  },
  {
   "cell_type": "code",
   "execution_count": 17,
   "id": "760d1206-dce1-486d-ab31-6558758087f9",
   "metadata": {},
   "outputs": [],
   "source": [
    " from transformers import pipeline"
   ]
  },
  {
   "cell_type": "code",
   "execution_count": 18,
   "id": "2f3a84b3-15f0-42e4-abaf-9cc908a43480",
   "metadata": {},
   "outputs": [
    {
     "name": "stderr",
     "output_type": "stream",
     "text": [
      "Fast image processor class <class 'transformers.models.vit.image_processing_vit_fast.ViTImageProcessorFast'> is available for this model. Using slow image processor class. To use the fast image processor class set `use_fast=True`.\n"
     ]
    }
   ],
   "source": [
    "vision_classifier = pipeline(model = 'google/vit-base-patch16-224')"
   ]
  },
  {
   "cell_type": "code",
   "execution_count": 19,
   "id": "8bd657e8-88d0-41ec-9126-751a2a650607",
   "metadata": {},
   "outputs": [],
   "source": [
    "preds=vision_classifier(images=\"https://huggingface.co/datasets/huggingface/documentation-images/resolve/main/pipeline-cat-chonk.jpeg\")"
   ]
  },
  {
   "cell_type": "code",
   "execution_count": 20,
   "id": "d3f2d355-c17a-4ea5-a1b2-edbad8ba1a67",
   "metadata": {},
   "outputs": [
    {
     "data": {
      "text/plain": [
       "[{'label': 'lynx, catamount', 'score': 0.440304160118103},\n",
       " {'label': 'cougar, puma, catamount, mountain lion, painter, panther, Felis concolor',\n",
       "  'score': 0.034334033727645874},\n",
       " {'label': 'snow leopard, ounce, Panthera uncia',\n",
       "  'score': 0.032147906720638275},\n",
       " {'label': 'Egyptian cat', 'score': 0.023539043962955475},\n",
       " {'label': 'tiger cat', 'score': 0.023034079000353813}]"
      ]
     },
     "execution_count": 20,
     "metadata": {},
     "output_type": "execute_result"
    }
   ],
   "source": [
    "preds"
   ]
  },
  {
   "cell_type": "code",
   "execution_count": 21,
   "id": "779d974f-7cdd-449f-b2e7-f22fd866ea30",
   "metadata": {},
   "outputs": [],
   "source": [
    "perds = [({'score': round(pred[\"score\"],4), \"label\":pred[\"label\"]}for pred in preds)]"
   ]
  },
  {
   "cell_type": "code",
   "execution_count": 22,
   "id": "1c6ad246-3fce-4d2f-b018-f50d7fcf09e8",
   "metadata": {},
   "outputs": [
    {
     "name": "stdout",
     "output_type": "stream",
     "text": [
      "[{'label': 'lynx, catamount', 'score': 0.440304160118103}, {'label': 'cougar, puma, catamount, mountain lion, painter, panther, Felis concolor', 'score': 0.034334033727645874}, {'label': 'snow leopard, ounce, Panthera uncia', 'score': 0.032147906720638275}, {'label': 'Egyptian cat', 'score': 0.023539043962955475}, {'label': 'tiger cat', 'score': 0.023034079000353813}]\n"
     ]
    }
   ],
   "source": [
    "print(preds)"
   ]
  },
  {
   "cell_type": "code",
   "execution_count": 23,
   "id": "7df03ab8-1efe-476f-ab08-2dc9c21da769",
   "metadata": {},
   "outputs": [
    {
     "name": "stdout",
     "output_type": "stream",
     "text": [
      "Score:  0.440304160118103  Label:  lynx, catamount\n",
      "Score:  0.034334033727645874  Label:  cougar, puma, catamount, mountain lion, painter, panther, Felis concolor\n",
      "Score:  0.032147906720638275  Label:  snow leopard, ounce, Panthera uncia\n",
      "Score:  0.023539043962955475  Label:  Egyptian cat\n",
      "Score:  0.023034079000353813  Label:  tiger cat\n"
     ]
    }
   ],
   "source": [
    "for pred in preds:\n",
    "    print(\"Score: \",pred['score'],\" Label: \",pred[\"label\"])"
   ]
  },
  {
   "cell_type": "code",
   "execution_count": 27,
   "id": "b7bef600-218a-4a5d-b15c-ad212cd3900e",
   "metadata": {},
   "outputs": [
    {
     "data": {
      "application/vnd.jupyter.widget-view+json": {
       "model_id": "c272cbb0db3d4c64ae1c937ff3bf48ce",
       "version_major": 2,
       "version_minor": 0
      },
      "text/plain": [
       "tokenizer_config.json:   0%|          | 0.00/49.0 [00:00<?, ?B/s]"
      ]
     },
     "metadata": {},
     "output_type": "display_data"
    },
    {
     "name": "stderr",
     "output_type": "stream",
     "text": [
      "C:\\Users\\Abhi\\anaconda3\\Lib\\site-packages\\huggingface_hub\\file_download.py:147: UserWarning: `huggingface_hub` cache-system uses symlinks by default to efficiently store duplicated files but your machine does not support them in C:\\Users\\Abhi\\.cache\\huggingface\\hub\\models--google-bert--bert-base-cased. Caching files will still work but in a degraded version that might require more space on your disk. This warning can be disabled by setting the `HF_HUB_DISABLE_SYMLINKS_WARNING` environment variable. For more details, see https://huggingface.co/docs/huggingface_hub/how-to-cache#limitations.\n",
      "To support symlinks on Windows, you either need to activate Developer Mode or to run Python as an administrator. In order to activate developer mode, see this article: https://docs.microsoft.com/en-us/windows/apps/get-started/enable-your-device-for-development\n",
      "  warnings.warn(message)\n"
     ]
    },
    {
     "data": {
      "application/vnd.jupyter.widget-view+json": {
       "model_id": "5cfb6404ec764eaf8feb11cc405bdfa4",
       "version_major": 2,
       "version_minor": 0
      },
      "text/plain": [
       "config.json:   0%|          | 0.00/570 [00:00<?, ?B/s]"
      ]
     },
     "metadata": {},
     "output_type": "display_data"
    },
    {
     "data": {
      "application/vnd.jupyter.widget-view+json": {
       "model_id": "17e35d7c10a44a8e8e4e5b6bc4d701f7",
       "version_major": 2,
       "version_minor": 0
      },
      "text/plain": [
       "vocab.txt:   0%|          | 0.00/213k [00:00<?, ?B/s]"
      ]
     },
     "metadata": {},
     "output_type": "display_data"
    },
    {
     "data": {
      "application/vnd.jupyter.widget-view+json": {
       "model_id": "8ee962947a3a436bb2f81b3ec674a9b7",
       "version_major": 2,
       "version_minor": 0
      },
      "text/plain": [
       "tokenizer.json:   0%|          | 0.00/436k [00:00<?, ?B/s]"
      ]
     },
     "metadata": {},
     "output_type": "display_data"
    }
   ],
   "source": [
    "from transformers import AutoTokenizer\n",
    "tokenizer = AutoTokenizer.from_pretrained('google-bert/bert-base-cased')"
   ]
  },
  {
   "cell_type": "code",
   "execution_count": 28,
   "id": "2e4b1b14-bfbe-486e-8649-f962551d0a6e",
   "metadata": {},
   "outputs": [],
   "source": [
    "encoded_input = tokenizer(\"Batman mother's names is Martha\")"
   ]
  },
  {
   "cell_type": "code",
   "execution_count": 29,
   "id": "c55f34a9-23f7-410b-80e4-7a099a10cd6b",
   "metadata": {},
   "outputs": [
    {
     "data": {
      "text/plain": [
       "[101, 8622, 1534, 112, 188, 2666, 1110, 8996, 102]"
      ]
     },
     "execution_count": 29,
     "metadata": {},
     "output_type": "execute_result"
    }
   ],
   "source": [
    "encoded_input[\"input_ids\"]"
   ]
  },
  {
   "cell_type": "code",
   "execution_count": 30,
   "id": "b3de2824-4815-4361-9103-6fe97921f35b",
   "metadata": {},
   "outputs": [
    {
     "data": {
      "text/plain": [
       "\"[CLS] Batman mother ' s names is Martha [SEP]\""
      ]
     },
     "execution_count": 30,
     "metadata": {},
     "output_type": "execute_result"
    }
   ],
   "source": [
    "tokenizer.decode(encoded_input[\"input_ids\"])"
   ]
  },
  {
   "cell_type": "code",
   "execution_count": 31,
   "id": "86b35adc-4e50-41eb-96bc-63df45b341e5",
   "metadata": {},
   "outputs": [],
   "source": [
    "encoded_input = tokenizer(\"Sachin Tendulkar is the best batsman\")"
   ]
  },
  {
   "cell_type": "code",
   "execution_count": 32,
   "id": "8a13b972-c374-4df1-b0d0-963f600421c4",
   "metadata": {},
   "outputs": [
    {
     "data": {
      "text/plain": [
       "{'input_ids': [101, 17784, 12285, 5157, 7641, 10493, 1813, 1110, 1103, 1436, 14526, 102], 'token_type_ids': [0, 0, 0, 0, 0, 0, 0, 0, 0, 0, 0, 0], 'attention_mask': [1, 1, 1, 1, 1, 1, 1, 1, 1, 1, 1, 1]}"
      ]
     },
     "execution_count": 32,
     "metadata": {},
     "output_type": "execute_result"
    }
   ],
   "source": [
    "encoded_input"
   ]
  },
  {
   "cell_type": "code",
   "execution_count": 34,
   "id": "9f949680-8eba-4b60-a3b7-9086d2d85967",
   "metadata": {},
   "outputs": [
    {
     "data": {
      "text/plain": [
       "'[CLS] Sachin Tendulkar is the best batsman [SEP]'"
      ]
     },
     "execution_count": 34,
     "metadata": {},
     "output_type": "execute_result"
    }
   ],
   "source": [
    "tokenizer.decode(encoded_input[\"input_ids\"])"
   ]
  },
  {
   "cell_type": "code",
   "execution_count": 35,
   "id": "b3634381-1357-4947-8157-dd5db2940105",
   "metadata": {},
   "outputs": [],
   "source": [
    "batch_sentences = [\"Batman mother's names is Martha\",\"Sachin Tendulkar is the best batsman\",\"I have an issue with my speaker which was delivered yesterday\"]"
   ]
  },
  {
   "cell_type": "code",
   "execution_count": 36,
   "id": "fb5f82a4-8238-4e6a-b7ca-33dd42afc662",
   "metadata": {},
   "outputs": [],
   "source": [
    "encoded_input = tokenizer(batch_sentences)"
   ]
  },
  {
   "cell_type": "code",
   "execution_count": 37,
   "id": "711a5c03-c9ac-49af-b20c-54eae2594243",
   "metadata": {},
   "outputs": [
    {
     "data": {
      "text/plain": [
       "{'input_ids': [[101, 8622, 1534, 112, 188, 2666, 1110, 8996, 102], [101, 17784, 12285, 5157, 7641, 10493, 1813, 1110, 1103, 1436, 14526, 102], [101, 146, 1138, 1126, 2486, 1114, 1139, 7349, 1134, 1108, 4653, 8128, 102]], 'token_type_ids': [[0, 0, 0, 0, 0, 0, 0, 0, 0], [0, 0, 0, 0, 0, 0, 0, 0, 0, 0, 0, 0], [0, 0, 0, 0, 0, 0, 0, 0, 0, 0, 0, 0, 0]], 'attention_mask': [[1, 1, 1, 1, 1, 1, 1, 1, 1], [1, 1, 1, 1, 1, 1, 1, 1, 1, 1, 1, 1], [1, 1, 1, 1, 1, 1, 1, 1, 1, 1, 1, 1, 1]]}"
      ]
     },
     "execution_count": 37,
     "metadata": {},
     "output_type": "execute_result"
    }
   ],
   "source": [
    "encoded_input"
   ]
  },
  {
   "cell_type": "code",
   "execution_count": null,
   "id": "c8a28be3-e4f2-478f-8b32-b7d4a725fabf",
   "metadata": {},
   "outputs": [],
   "source": []
  }
 ],
 "metadata": {
  "kernelspec": {
   "display_name": "Python 3 (ipykernel)",
   "language": "python",
   "name": "python3"
  },
  "language_info": {
   "codemirror_mode": {
    "name": "ipython",
    "version": 3
   },
   "file_extension": ".py",
   "mimetype": "text/x-python",
   "name": "python",
   "nbconvert_exporter": "python",
   "pygments_lexer": "ipython3",
   "version": "3.11.7"
  }
 },
 "nbformat": 4,
 "nbformat_minor": 5
}
