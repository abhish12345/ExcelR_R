{
 "cells": [
  {
   "cell_type": "code",
   "execution_count": 1,
   "id": "28f27382-0e66-4ffb-a362-dbc5b13871ba",
   "metadata": {},
   "outputs": [],
   "source": [
    "# !pip install gensim"
   ]
  },
  {
   "cell_type": "code",
   "execution_count": 2,
   "id": "fe8dd5f8-b130-471d-8038-754621be56b9",
   "metadata": {},
   "outputs": [],
   "source": [
    "from gensim.models import Word2Vec"
   ]
  },
  {
   "cell_type": "code",
   "execution_count": 3,
   "id": "efe324cd-50aa-4176-8206-3b72c08a0ed6",
   "metadata": {},
   "outputs": [],
   "source": [
    "from sklearn.feature_extraction.text import CountVectorizer"
   ]
  },
  {
   "cell_type": "code",
   "execution_count": 4,
   "id": "448deb2d-82b8-47b6-a740-e420956d9e69",
   "metadata": {},
   "outputs": [],
   "source": [
    "corpus = [\"Natural language processing is a field of artificial intelligence.\",\n",
    "         \"It involves the interaction between computers and humans using natural language.\",\n",
    "         \"NLP techniques are used in various applications like chatbots and language translation.\",\n",
    "         \"Word embeddings capture semantic relationships between words in a continuous vector space.\",\n",
    "         ]"
   ]
  },
  {
   "cell_type": "code",
   "execution_count": 5,
   "id": "12178769-d535-481d-8d5f-d39dbf17b3a7",
   "metadata": {},
   "outputs": [],
   "source": [
    "def one_hot_encoding(text):\n",
    "    words = text.split()\n",
    "    print(words)\n",
    "    word_to_index = {word: i for i, word in enumerate(set(words))}\n",
    "    print(word_to_index)"
   ]
  },
  {
   "cell_type": "code",
   "execution_count": 6,
   "id": "8f067612-7f89-43c9-a677-54a762abc86b",
   "metadata": {},
   "outputs": [],
   "source": [
    "def one_hot_encoding(text):\n",
    "    words = text.split()\n",
    "    vocab_size = len(set(words))\n",
    "    word_to_index = {word: i for i, word in enumerate(set(words))}\n",
    "    one_hot_vector = [0] * vocab_size\n",
    "    for word in words:\n",
    "        index = word_to_index[word]\n",
    "        one_hot_vector[index] = 1\n",
    "    return one_hot_vector"
   ]
  },
  {
   "cell_type": "code",
   "execution_count": 7,
   "id": "cd7fc79d-2bfc-4248-946d-6ff9877359fb",
   "metadata": {},
   "outputs": [],
   "source": [
    "text = corpus[0]"
   ]
  },
  {
   "cell_type": "code",
   "execution_count": 8,
   "id": "92f05392-ca9d-4419-bf79-9f3d5c7b7721",
   "metadata": {},
   "outputs": [
    {
     "data": {
      "text/plain": [
       "'Natural language processing is a field of artificial intelligence.'"
      ]
     },
     "execution_count": 8,
     "metadata": {},
     "output_type": "execute_result"
    }
   ],
   "source": [
    "text"
   ]
  },
  {
   "cell_type": "code",
   "execution_count": 9,
   "id": "9b4e99e0-651c-42dd-a674-4b23374b6bb5",
   "metadata": {},
   "outputs": [],
   "source": [
    "one_hot_vector=one_hot_encoding(text)"
   ]
  },
  {
   "cell_type": "code",
   "execution_count": 10,
   "id": "8d2e6cf5-938c-42f5-b350-dad9f8fb3f8a",
   "metadata": {},
   "outputs": [
    {
     "data": {
      "text/plain": [
       "[1, 1, 1, 1, 1, 1, 1, 1, 1]"
      ]
     },
     "execution_count": 10,
     "metadata": {},
     "output_type": "execute_result"
    }
   ],
   "source": [
    "one_hot_vector"
   ]
  },
  {
   "cell_type": "code",
   "execution_count": 11,
   "id": "41ec95f0-d5af-4b9f-87cc-d10e6b0bb1e1",
   "metadata": {},
   "outputs": [],
   "source": [
    "def bag_of_words(corpus):\n",
    "    vectorizer = CountVectorizer()\n",
    "    X = vectorizer.fit_transform(corpus)\n",
    "    return X.toarray(), vectorizer.get_feature_names_out()"
   ]
  },
  {
   "cell_type": "code",
   "execution_count": 12,
   "id": "f402da57-7b5d-4149-9cca-54d04c8be048",
   "metadata": {},
   "outputs": [],
   "source": [
    "bow_vector, feature_names = bag_of_words(corpus)"
   ]
  },
  {
   "cell_type": "code",
   "execution_count": 13,
   "id": "e2961f80-2e34-462c-bc74-a79ac3df408e",
   "metadata": {},
   "outputs": [
    {
     "data": {
      "text/plain": [
       "array([[0, 0, 0, 1, 0, 0, 0, 0, 0, 0, 1, 0, 0, 1, 0, 0, 1, 0, 1, 0, 1, 0,\n",
       "        1, 1, 0, 0, 0, 0, 0, 0, 0, 0, 0, 0, 0, 0],\n",
       "       [1, 0, 0, 0, 1, 0, 0, 1, 0, 0, 0, 1, 0, 0, 1, 1, 0, 1, 1, 0, 1, 0,\n",
       "        0, 0, 0, 0, 0, 0, 1, 0, 0, 1, 0, 0, 0, 0],\n",
       "       [1, 1, 1, 0, 0, 0, 1, 0, 0, 0, 0, 0, 1, 0, 0, 0, 0, 0, 1, 1, 0, 1,\n",
       "        0, 0, 0, 0, 0, 1, 0, 1, 1, 0, 1, 0, 0, 0],\n",
       "       [0, 0, 0, 0, 1, 1, 0, 0, 1, 1, 0, 0, 1, 0, 0, 0, 0, 0, 0, 0, 0, 0,\n",
       "        0, 0, 1, 1, 1, 0, 0, 0, 0, 0, 0, 1, 1, 1]], dtype=int64)"
      ]
     },
     "execution_count": 13,
     "metadata": {},
     "output_type": "execute_result"
    }
   ],
   "source": [
    "bow_vector"
   ]
  },
  {
   "cell_type": "code",
   "execution_count": 14,
   "id": "1095a11b-28ff-400b-a6d0-4bcc3d44c97b",
   "metadata": {},
   "outputs": [
    {
     "data": {
      "text/plain": [
       "array(['and', 'applications', 'are', 'artificial', 'between', 'capture',\n",
       "       'chatbots', 'computers', 'continuous', 'embeddings', 'field',\n",
       "       'humans', 'in', 'intelligence', 'interaction', 'involves', 'is',\n",
       "       'it', 'language', 'like', 'natural', 'nlp', 'of', 'processing',\n",
       "       'relationships', 'semantic', 'space', 'techniques', 'the',\n",
       "       'translation', 'used', 'using', 'various', 'vector', 'word',\n",
       "       'words'], dtype=object)"
      ]
     },
     "execution_count": 14,
     "metadata": {},
     "output_type": "execute_result"
    }
   ],
   "source": [
    "feature_names"
   ]
  },
  {
   "cell_type": "code",
   "execution_count": 16,
   "id": "654bca02-51b8-47c4-b384-ee55c12d6f2b",
   "metadata": {},
   "outputs": [],
   "source": [
    "# !pip install jupyterthemes"
   ]
  },
  {
   "cell_type": "code",
   "execution_count": 20,
   "id": "d98d305d-289e-4abd-a5f9-70b38ae0233d",
   "metadata": {},
   "outputs": [
    {
     "name": "stdout",
     "output_type": "stream",
     "text": [
      "[('Natural', 'language', 'processing'), ('language', 'processing', 'is'), ('processing', 'is', 'a'), ('is', 'a', 'field'), ('a', 'field', 'of'), ('field', 'of', 'artificial'), ('of', 'artificial', 'intelligence.')]\n"
     ]
    }
   ],
   "source": [
    "def ngram(text,n):\n",
    "    words = text.split()\n",
    "    ngrams = [tuple(words[i:i+n]) for i in range(len(words)-n+1)] \n",
    "    return ngrams\n",
    "\n",
    "ngram = ngram(text,3)\n",
    "print(ngram)"
   ]
  },
  {
   "cell_type": "code",
   "execution_count": 21,
   "id": "1e460c18-67f2-4e3b-a1d5-5cbb530b6e62",
   "metadata": {},
   "outputs": [],
   "source": [
    "def word_embeddings(sentences, vector_size=100, window=5, min_count=1, workers=4):\n",
    "    model = Word2Vec(sentences, vector_size=vector_size,window=window,min_count=min_count,workers=workers)\n",
    "    return model "
   ]
  },
  {
   "cell_type": "code",
   "execution_count": 22,
   "id": "6bce7e9f-ab2f-439c-9f71-a93d57d7796f",
   "metadata": {},
   "outputs": [],
   "source": [
    "embedding_model = word_embeddings([text.split()])"
   ]
  },
  {
   "cell_type": "code",
   "execution_count": 23,
   "id": "ce68d598-d085-4c17-9299-25c52434b37b",
   "metadata": {},
   "outputs": [
    {
     "data": {
      "text/plain": [
       "'Natural language processing is a field of artificial intelligence.'"
      ]
     },
     "execution_count": 23,
     "metadata": {},
     "output_type": "execute_result"
    }
   ],
   "source": [
    "text"
   ]
  },
  {
   "cell_type": "code",
   "execution_count": 26,
   "id": "ecd7bebf-dc0a-4ec4-96e4-1bce2a14310a",
   "metadata": {},
   "outputs": [
    {
     "data": {
      "text/plain": [
       "array([-8.6196875e-03,  3.6657380e-03,  5.1898835e-03,  5.7419385e-03,\n",
       "        7.4669183e-03, -6.1676754e-03,  1.1056137e-03,  6.0472824e-03,\n",
       "       -2.8400505e-03, -6.1735227e-03, -4.1022300e-04, -8.3689485e-03,\n",
       "       -5.6000124e-03,  7.1045388e-03,  3.3525396e-03,  7.2256695e-03,\n",
       "        6.8002474e-03,  7.5307419e-03, -3.7891543e-03, -5.6180597e-04,\n",
       "        2.3483764e-03, -4.5190323e-03,  8.3887316e-03, -9.8581640e-03,\n",
       "        6.7646410e-03,  2.9144168e-03, -4.9328315e-03,  4.3981876e-03,\n",
       "       -1.7395747e-03,  6.7113843e-03,  9.9648498e-03, -4.3624435e-03,\n",
       "       -5.9933780e-04, -5.6956373e-03,  3.8508223e-03,  2.7866268e-03,\n",
       "        6.8910765e-03,  6.1010956e-03,  9.5384968e-03,  9.2734173e-03,\n",
       "        7.8980681e-03, -6.9895042e-03, -9.1558648e-03, -3.5575271e-04,\n",
       "       -3.0998408e-03,  7.8943167e-03,  5.9385742e-03, -1.5456629e-03,\n",
       "        1.5109634e-03,  1.7900408e-03,  7.8175711e-03, -9.5101865e-03,\n",
       "       -2.0553112e-04,  3.4691966e-03, -9.3897223e-04,  8.3817719e-03,\n",
       "        9.0107834e-03,  6.5365066e-03, -7.1162102e-04,  7.7104042e-03,\n",
       "       -8.5343346e-03,  3.2071066e-03, -4.6379971e-03, -5.0889552e-03,\n",
       "        3.5896183e-03,  5.3703394e-03,  7.7695143e-03, -5.7665063e-03,\n",
       "        7.4333609e-03,  6.6254963e-03, -3.7098003e-03, -8.7456414e-03,\n",
       "        5.4374672e-03,  6.5097557e-03, -7.8755023e-04, -6.7098560e-03,\n",
       "       -7.0859254e-03, -2.4970602e-03,  5.1432536e-03, -3.6652375e-03,\n",
       "       -9.3700597e-03,  3.8267397e-03,  4.8844791e-03, -6.4285635e-03,\n",
       "        1.2085581e-03, -2.0748770e-03,  2.4403334e-05, -9.8835090e-03,\n",
       "        2.6920044e-03, -4.7501065e-03,  1.0876465e-03, -1.5762246e-03,\n",
       "        2.1966731e-03, -7.8815762e-03, -2.7171839e-03,  2.6631986e-03,\n",
       "        5.3466819e-03, -2.3915148e-03, -9.5100943e-03,  4.5058788e-03],\n",
       "      dtype=float32)"
      ]
     },
     "execution_count": 26,
     "metadata": {},
     "output_type": "execute_result"
    }
   ],
   "source": [
    "embedding_model.wv['artificial']"
   ]
  },
  {
   "cell_type": "code",
   "execution_count": 29,
   "id": "ebb3595a-a179-45db-862c-959a59779677",
   "metadata": {},
   "outputs": [],
   "source": [
    "def skip_gram(sentences, vector_size=100, window=5, min_count=1, workers=4):\n",
    "    model = Word2Vec(sentences, vector_size=vector_size, window= window, min_count= min_count, workers= workers)\n",
    "    return model\n",
    "\n",
    "\n",
    "skip_gram_vector = skip_gram([text.split()])\n"
   ]
  },
  {
   "cell_type": "code",
   "execution_count": 31,
   "id": "058ce752-1b83-40e8-acb3-f16642994d56",
   "metadata": {},
   "outputs": [
    {
     "data": {
      "text/plain": [
       "array([-8.6196875e-03,  3.6657380e-03,  5.1898835e-03,  5.7419385e-03,\n",
       "        7.4669183e-03, -6.1676754e-03,  1.1056137e-03,  6.0472824e-03,\n",
       "       -2.8400505e-03, -6.1735227e-03, -4.1022300e-04, -8.3689485e-03,\n",
       "       -5.6000124e-03,  7.1045388e-03,  3.3525396e-03,  7.2256695e-03,\n",
       "        6.8002474e-03,  7.5307419e-03, -3.7891543e-03, -5.6180597e-04,\n",
       "        2.3483764e-03, -4.5190323e-03,  8.3887316e-03, -9.8581640e-03,\n",
       "        6.7646410e-03,  2.9144168e-03, -4.9328315e-03,  4.3981876e-03,\n",
       "       -1.7395747e-03,  6.7113843e-03,  9.9648498e-03, -4.3624435e-03,\n",
       "       -5.9933780e-04, -5.6956373e-03,  3.8508223e-03,  2.7866268e-03,\n",
       "        6.8910765e-03,  6.1010956e-03,  9.5384968e-03,  9.2734173e-03,\n",
       "        7.8980681e-03, -6.9895042e-03, -9.1558648e-03, -3.5575271e-04,\n",
       "       -3.0998408e-03,  7.8943167e-03,  5.9385742e-03, -1.5456629e-03,\n",
       "        1.5109634e-03,  1.7900408e-03,  7.8175711e-03, -9.5101865e-03,\n",
       "       -2.0553112e-04,  3.4691966e-03, -9.3897223e-04,  8.3817719e-03,\n",
       "        9.0107834e-03,  6.5365066e-03, -7.1162102e-04,  7.7104042e-03,\n",
       "       -8.5343346e-03,  3.2071066e-03, -4.6379971e-03, -5.0889552e-03,\n",
       "        3.5896183e-03,  5.3703394e-03,  7.7695143e-03, -5.7665063e-03,\n",
       "        7.4333609e-03,  6.6254963e-03, -3.7098003e-03, -8.7456414e-03,\n",
       "        5.4374672e-03,  6.5097557e-03, -7.8755023e-04, -6.7098560e-03,\n",
       "       -7.0859254e-03, -2.4970602e-03,  5.1432536e-03, -3.6652375e-03,\n",
       "       -9.3700597e-03,  3.8267397e-03,  4.8844791e-03, -6.4285635e-03,\n",
       "        1.2085581e-03, -2.0748770e-03,  2.4403334e-05, -9.8835090e-03,\n",
       "        2.6920044e-03, -4.7501065e-03,  1.0876465e-03, -1.5762246e-03,\n",
       "        2.1966731e-03, -7.8815762e-03, -2.7171839e-03,  2.6631986e-03,\n",
       "        5.3466819e-03, -2.3915148e-03, -9.5100943e-03,  4.5058788e-03],\n",
       "      dtype=float32)"
      ]
     },
     "execution_count": 31,
     "metadata": {},
     "output_type": "execute_result"
    }
   ],
   "source": [
    "skip_gram_vector.wv['artificial']"
   ]
  },
  {
   "cell_type": "code",
   "execution_count": null,
   "id": "06c57446-e116-4e14-894b-6c10cfb01adf",
   "metadata": {},
   "outputs": [],
   "source": []
  }
 ],
 "metadata": {
  "kernelspec": {
   "display_name": "Python 3 (ipykernel)",
   "language": "python",
   "name": "python3"
  },
  "language_info": {
   "codemirror_mode": {
    "name": "ipython",
    "version": 3
   },
   "file_extension": ".py",
   "mimetype": "text/x-python",
   "name": "python",
   "nbconvert_exporter": "python",
   "pygments_lexer": "ipython3",
   "version": "3.11.7"
  }
 },
 "nbformat": 4,
 "nbformat_minor": 5
}
